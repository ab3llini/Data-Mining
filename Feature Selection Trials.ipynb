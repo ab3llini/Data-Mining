{
 "cells": [
  {
   "cell_type": "markdown",
   "metadata": {},
   "source": [
    "# Project - Feature Selection\n",
    " In This notebook we will explain the main steps that brought us to our finalmodel "
   ]
  },
  {
   "cell_type": "markdown",
   "metadata": {},
   "source": []
  },
  {
   "cell_type": "code",
   "execution_count": 1,
   "metadata": {
    "scrolled": true
   },
   "outputs": [
    {
     "name": "stdout",
     "output_type": "stream",
     "text": [
      "The history saving thread hit an unexpected error (OperationalError('unable to open database file',)).History will not be written to the database.\n"
     ]
    },
    {
     "data": {
      "text/html": [
       "<div>\n",
       "<style scoped>\n",
       "    .dataframe tbody tr th:only-of-type {\n",
       "        vertical-align: middle;\n",
       "    }\n",
       "\n",
       "    .dataframe tbody tr th {\n",
       "        vertical-align: top;\n",
       "    }\n",
       "\n",
       "    .dataframe thead th {\n",
       "        text-align: right;\n",
       "    }\n",
       "</style>\n",
       "<table border=\"1\" class=\"dataframe\">\n",
       "  <thead>\n",
       "    <tr style=\"text-align: right;\">\n",
       "      <th></th>\n",
       "      <th>StoreID</th>\n",
       "      <th>IsHoliday</th>\n",
       "      <th>IsOpen</th>\n",
       "      <th>HasPromotions</th>\n",
       "      <th>NearestCompetitor</th>\n",
       "      <th>Region</th>\n",
       "      <th>NumberOfCustomers</th>\n",
       "      <th>NumberOfSales</th>\n",
       "      <th>Region_AreaKM2</th>\n",
       "      <th>Region_GDP</th>\n",
       "      <th>...</th>\n",
       "      <th>Events_Fog</th>\n",
       "      <th>Events_Thunderstorm</th>\n",
       "      <th>Events_Hail</th>\n",
       "      <th>StoreType_Hyper Market</th>\n",
       "      <th>StoreType_Super Market</th>\n",
       "      <th>StoreType_Standard Market</th>\n",
       "      <th>StoreType_Shopping Center</th>\n",
       "      <th>AssortmentType_General</th>\n",
       "      <th>AssortmentType_With Non-Food Department</th>\n",
       "      <th>AssortmentType_With Fish Department</th>\n",
       "    </tr>\n",
       "  </thead>\n",
       "  <tbody>\n",
       "    <tr>\n",
       "      <th>0</th>\n",
       "      <td>1000</td>\n",
       "      <td>0</td>\n",
       "      <td>1</td>\n",
       "      <td>0</td>\n",
       "      <td>326</td>\n",
       "      <td>7</td>\n",
       "      <td>495</td>\n",
       "      <td>5676</td>\n",
       "      <td>9643</td>\n",
       "      <td>17130</td>\n",
       "      <td>...</td>\n",
       "      <td>0.0</td>\n",
       "      <td>0.0</td>\n",
       "      <td>0.0</td>\n",
       "      <td>1.0</td>\n",
       "      <td>0.0</td>\n",
       "      <td>0.0</td>\n",
       "      <td>0.0</td>\n",
       "      <td>1.0</td>\n",
       "      <td>0.0</td>\n",
       "      <td>0.0</td>\n",
       "    </tr>\n",
       "    <tr>\n",
       "      <th>1</th>\n",
       "      <td>1000</td>\n",
       "      <td>0</td>\n",
       "      <td>1</td>\n",
       "      <td>0</td>\n",
       "      <td>326</td>\n",
       "      <td>7</td>\n",
       "      <td>608</td>\n",
       "      <td>8111</td>\n",
       "      <td>9643</td>\n",
       "      <td>17130</td>\n",
       "      <td>...</td>\n",
       "      <td>0.0</td>\n",
       "      <td>0.0</td>\n",
       "      <td>0.0</td>\n",
       "      <td>1.0</td>\n",
       "      <td>0.0</td>\n",
       "      <td>0.0</td>\n",
       "      <td>0.0</td>\n",
       "      <td>1.0</td>\n",
       "      <td>0.0</td>\n",
       "      <td>0.0</td>\n",
       "    </tr>\n",
       "    <tr>\n",
       "      <th>2</th>\n",
       "      <td>1000</td>\n",
       "      <td>0</td>\n",
       "      <td>1</td>\n",
       "      <td>0</td>\n",
       "      <td>326</td>\n",
       "      <td>7</td>\n",
       "      <td>665</td>\n",
       "      <td>8300</td>\n",
       "      <td>9643</td>\n",
       "      <td>17130</td>\n",
       "      <td>...</td>\n",
       "      <td>0.0</td>\n",
       "      <td>0.0</td>\n",
       "      <td>0.0</td>\n",
       "      <td>1.0</td>\n",
       "      <td>0.0</td>\n",
       "      <td>0.0</td>\n",
       "      <td>0.0</td>\n",
       "      <td>1.0</td>\n",
       "      <td>0.0</td>\n",
       "      <td>0.0</td>\n",
       "    </tr>\n",
       "    <tr>\n",
       "      <th>3</th>\n",
       "      <td>1000</td>\n",
       "      <td>0</td>\n",
       "      <td>1</td>\n",
       "      <td>0</td>\n",
       "      <td>326</td>\n",
       "      <td>7</td>\n",
       "      <td>630</td>\n",
       "      <td>7154</td>\n",
       "      <td>9643</td>\n",
       "      <td>17130</td>\n",
       "      <td>...</td>\n",
       "      <td>0.0</td>\n",
       "      <td>0.0</td>\n",
       "      <td>0.0</td>\n",
       "      <td>1.0</td>\n",
       "      <td>0.0</td>\n",
       "      <td>0.0</td>\n",
       "      <td>0.0</td>\n",
       "      <td>1.0</td>\n",
       "      <td>0.0</td>\n",
       "      <td>0.0</td>\n",
       "    </tr>\n",
       "    <tr>\n",
       "      <th>4</th>\n",
       "      <td>1000</td>\n",
       "      <td>0</td>\n",
       "      <td>0</td>\n",
       "      <td>0</td>\n",
       "      <td>326</td>\n",
       "      <td>7</td>\n",
       "      <td>0</td>\n",
       "      <td>0</td>\n",
       "      <td>9643</td>\n",
       "      <td>17130</td>\n",
       "      <td>...</td>\n",
       "      <td>0.0</td>\n",
       "      <td>0.0</td>\n",
       "      <td>0.0</td>\n",
       "      <td>1.0</td>\n",
       "      <td>0.0</td>\n",
       "      <td>0.0</td>\n",
       "      <td>0.0</td>\n",
       "      <td>1.0</td>\n",
       "      <td>0.0</td>\n",
       "      <td>0.0</td>\n",
       "    </tr>\n",
       "  </tbody>\n",
       "</table>\n",
       "<p>5 rows × 44 columns</p>\n",
       "</div>"
      ],
      "text/plain": [
       "   StoreID  IsHoliday  IsOpen  HasPromotions  NearestCompetitor  Region  \\\n",
       "0     1000          0       1              0                326       7   \n",
       "1     1000          0       1              0                326       7   \n",
       "2     1000          0       1              0                326       7   \n",
       "3     1000          0       1              0                326       7   \n",
       "4     1000          0       0              0                326       7   \n",
       "\n",
       "   NumberOfCustomers  NumberOfSales  Region_AreaKM2  Region_GDP  \\\n",
       "0                495           5676            9643       17130   \n",
       "1                608           8111            9643       17130   \n",
       "2                665           8300            9643       17130   \n",
       "3                630           7154            9643       17130   \n",
       "4                  0              0            9643       17130   \n",
       "\n",
       "                  ...                   Events_Fog  Events_Thunderstorm  \\\n",
       "0                 ...                          0.0                  0.0   \n",
       "1                 ...                          0.0                  0.0   \n",
       "2                 ...                          0.0                  0.0   \n",
       "3                 ...                          0.0                  0.0   \n",
       "4                 ...                          0.0                  0.0   \n",
       "\n",
       "   Events_Hail  StoreType_Hyper Market  StoreType_Super Market  \\\n",
       "0          0.0                     1.0                     0.0   \n",
       "1          0.0                     1.0                     0.0   \n",
       "2          0.0                     1.0                     0.0   \n",
       "3          0.0                     1.0                     0.0   \n",
       "4          0.0                     1.0                     0.0   \n",
       "\n",
       "   StoreType_Standard Market  StoreType_Shopping Center  \\\n",
       "0                        0.0                        0.0   \n",
       "1                        0.0                        0.0   \n",
       "2                        0.0                        0.0   \n",
       "3                        0.0                        0.0   \n",
       "4                        0.0                        0.0   \n",
       "\n",
       "   AssortmentType_General  AssortmentType_With Non-Food Department  \\\n",
       "0                     1.0                                      0.0   \n",
       "1                     1.0                                      0.0   \n",
       "2                     1.0                                      0.0   \n",
       "3                     1.0                                      0.0   \n",
       "4                     1.0                                      0.0   \n",
       "\n",
       "   AssortmentType_With Fish Department  \n",
       "0                                  0.0  \n",
       "1                                  0.0  \n",
       "2                                  0.0  \n",
       "3                                  0.0  \n",
       "4                                  0.0  \n",
       "\n",
       "[5 rows x 44 columns]"
      ]
     },
     "execution_count": 19,
     "metadata": {},
     "output_type": "execute_result"
    }
   ],
   "source": [
    "import dataset.dataset as d\n",
    "import matplotlib.pyplot as plt\n",
    "import numpy as np\n",
    "import pandas as pd\n",
    "import numpy as np\n",
    "import matplotlib.pyplot as plt\n",
    "import pandas as pd\n",
    "import random\n",
    "\n",
    "from sklearn import datasets\n",
    "from sklearn import linear_model\n",
    "from sklearn import naive_bayes\n",
    "from sklearn import neighbors\n",
    "from sklearn import linear_model\n",
    "from sklearn.ensemble import ExtraTreesRegressor\n",
    "\n",
    "from sklearn.feature_selection import SelectFromModel\n",
    "from sklearn.feature_selection import VarianceThreshold\n",
    "\n",
    "from sklearn.decomposition import PCA\n",
    "\n",
    "from sklearn.model_selection import StratifiedKFold\n",
    "from sklearn.model_selection import KFold\n",
    "from sklearn.model_selection import cross_val_score\n",
    "\n",
    "%matplotlib inline\n",
    "\n",
    "\n",
    "\n",
    "df = d.read_imputed_onehot_dataset()\n",
    "#df['Date'] = df['Date'].astype(\"datetime64[s]\")\n",
    "#df['day_of_week'] = df['Date'].dt.weekday_name\n",
    "#df_sales_per_day = df.groupby(df[\"day_of_week\"])['NumberOfSales'].agg('sum')\n",
    "\n",
    "df = df.loc[:, df.columns != 'Date']\n",
    "\n",
    "df.head()"
   ]
  },
  {
   "cell_type": "markdown",
   "metadata": {},
   "source": [
    "In this section we split the variables in order to perform feature selection "
   ]
  },
  {
   "cell_type": "code",
   "execution_count": 2,
   "metadata": {},
   "outputs": [],
   "source": [
    "\n",
    "dataset_to_PCA = df.loc[:, df.columns != 'NumberOfSales']\n",
    "dataset_to_PCA = dataset_to_PCA.loc[:, dataset_to_PCA.columns != 'NumberOfCustomers']\n",
    "\n",
    "X = np.array(dataset_to_PCA)\n",
    "feature_names = np.array(dataset_to_PCA.columns)\n",
    "\n",
    "target = df['NumberOfCustomers']\n",
    "y = np.array(target)\n",
    "\n"
   ]
  },
  {
   "cell_type": "markdown",
   "metadata": {},
   "source": [
    "Calcoliamo come baseline una linear regression p"
   ]
  },
  {
   "cell_type": "code",
   "execution_count": null,
   "metadata": {},
   "outputs": [],
   "source": [
    "kfolds = KFold(3,shuffle=True,random_state=1234)\n",
    "model = linear_model.LinearRegression()\n",
    "\n",
    "poly = PolynomialFeatures(degree=2)\n",
    "X_ = poly.fit_transform(X)\n",
    "\n",
    "scores = cross_val_score(model, X_, y, cv=kfolds)\n",
    "scores.mean()"
   ]
  },
  {
   "cell_type": "code",
   "execution_count": 4,
   "metadata": {},
   "outputs": [
    {
     "name": "stdout",
     "output_type": "stream",
     "text": [
      "Reduced data set shape is  (523021, 34)\n",
      "Selected features =  ['StoreID' 'HasPromotions' 'NearestCompetitor' 'Region' 'Region_AreaKM2'\n",
      " 'Region_GDP' 'Region_PopulationK' 'CloudCover' 'Max_Dew_PointC'\n",
      " 'Max_Humidity' 'Max_Sea_Level_PressurehPa' 'Max_TemperatureC'\n",
      " 'Max_VisibilityKm' 'Max_Wind_SpeedKm_h' 'Mean_Dew_PointC' 'Mean_Humidity'\n",
      " 'Mean_Sea_Level_PressurehPa' 'Mean_TemperatureC' 'Mean_VisibilityKm'\n",
      " 'Mean_Wind_SpeedKm_h' 'Min_Dew_PointC' 'Min_Humidity'\n",
      " 'Min_Sea_Level_PressurehPa' 'Min_TemperatureC' 'Min_VisibilitykM'\n",
      " 'Precipitationmm' 'WindDirDegrees' 'Events_Rain' 'Events_none'\n",
      " 'Events_Fog' 'StoreType_Hyper Market' 'StoreType_Standard Market'\n",
      " 'AssortmentType_General' 'AssortmentType_With Non-Food Department']\n"
     ]
    }
   ],
   "source": [
    "feature_selection_variance_model = VarianceThreshold(threshold=(.8 * (1 - .8)))\n",
    "X_selected_features_variance = feature_selection_variance_model.fit_transform(X)\n",
    "\n",
    "print(\"Reduced data set shape is \", X_selected_features_variance.shape)\n",
    "\n",
    "mask = feature_selection_variance_model.get_support() #list of booleans\n",
    "print(\"Selected features = \", feature_names[mask])\n",
    "#tutto molto bello ma riduce solo da 44 features a 34 non ci piace\n"
   ]
  },
  {
   "cell_type": "code",
   "execution_count": 5,
   "metadata": {},
   "outputs": [
    {
     "data": {
      "text/plain": [
       "'\\nfrom sklearn.feature_selection import SelectKBest\\nfrom sklearn.feature_selection import mutual_info_regression\\n\\nfeature_selection_univariate_model = SelectKBest(mutual_info_regression, k=4)\\nX_selected_features_univariate = feature_selection_univariate_model.fit_transform(X,y)\\nprint(\"Reduced data set shape is \",X_selected_features_univariate.shape)\\n\\nmask = feature_selection_univariate_model.get_support() #list of booleans\\nprint(\"Selected features = \",feature_names[mask])\\n'"
      ]
     },
     "execution_count": 5,
     "metadata": {},
     "output_type": "execute_result"
    }
   ],
   "source": [
    "'''\n",
    "from sklearn.feature_selection import SelectKBest\n",
    "from sklearn.feature_selection import mutual_info_regression\n",
    "\n",
    "feature_selection_univariate_model = SelectKBest(mutual_info_regression, k=4)\n",
    "X_selected_features_univariate = feature_selection_univariate_model.fit_transform(X,y)\n",
    "print(\"Reduced data set shape is \",X_selected_features_univariate.shape)\n",
    "\n",
    "mask = feature_selection_univariate_model.get_support() #list of booleans\n",
    "print(\"Selected features = \",feature_names[mask])\n",
    "'''"
   ]
  },
  {
   "cell_type": "markdown",
   "metadata": {},
   "source": [
    "## Principal Component Analysis\n",
    "We now apply principal component analysis. Since we need to decide how many component to select and for this purpose we apply PCA and plot the explained variance ratio and the cumulative explained variance."
   ]
  },
  {
   "cell_type": "code",
   "execution_count": 9,
   "metadata": {},
   "outputs": [],
   "source": [
    "full_pca_model = PCA()\n",
    "full_fitted_model = full_pca_model.fit(X)"
   ]
  },
  {
   "cell_type": "code",
   "execution_count": 10,
   "metadata": {},
   "outputs": [
    {
     "data": {
      "image/png": "[encoded data removed]",
      "text/plain": [
       "<Figure size 432x288 with 1 Axes>"
      ]
     },
     "metadata": {},
     "output_type": "display_data"
    }
   ],
   "source": [
    "plt.semilogy(full_fitted_model.explained_variance_ratio_, '--o');\n"
   ]
  },
  {
   "cell_type": "code",
   "execution_count": 11,
   "metadata": {},
   "outputs": [
    {
     "data": {
      "text/plain": [
       "Text(0,0.5,'Cumulative Explained Variance Ratio')"
      ]
     },
     "execution_count": 11,
     "metadata": {},
     "output_type": "execute_result"
    },
    {
     "data": {
      "image/png": "[encoded data removed]",
      "text/plain": [
       "<Figure size 432x288 with 1 Axes>"
      ]
     },
     "metadata": {},
     "output_type": "display_data"
    }
   ],
   "source": [
    "plt.semilogy(full_fitted_model.explained_variance_ratio_.cumsum(), '--o');\n",
    "plt.xticks(np.arange(0,12,1));\n",
    "plt.xlabel(\"Features\")\n",
    "plt.ylabel(\"Cumulative Explained Variance Ratio\")"
   ]
  },
  {
   "cell_type": "markdown",
   "metadata": {},
   "source": [
    "Da qui vediamo quante componenti spiegano la varianza del modello, fatto questo passo passiamo a selezionare esclusivamente quel numero di componenti. "
   ]
  },
  {
   "cell_type": "code",
   "execution_count": 23,
   "metadata": {
    "scrolled": true
   },
   "outputs": [
    {
     "name": "stdout",
     "output_type": "stream",
     "text": [
      "Explained Variance: [0.57668856 0.37758961 0.02952688 0.01594658]\n",
      "Reduced data set shape is  (523021, 4)\n",
      "[[-7587.07479214 -3166.81143236  2327.84507026  2022.80384621]\n",
      " [-7587.09917229 -3166.80847522  2328.02415906  2022.69668971]\n",
      " [-7587.07561179 -3166.82498728  2327.85999935  2022.75004176]\n",
      " ...\n",
      " [-3329.35866653 -2826.90275792  2602.26233849  1962.5713456 ]\n",
      " [-3329.36915969 -2826.91318784  2602.34937855  1962.48529323]\n",
      " [-3329.37773427 -2826.90987495  2602.40855015  1962.46100346]]\n"
     ]
    }
   ],
   "source": [
    "feature_selection_pca_model = PCA(n_components=4)\n",
    "fitted_model = feature_selection_pca_model.fit(X)\n",
    "\n",
    "X_selected_features_pca = fitted_model.transform(X)\n",
    "\n",
    "print(\"Explained Variance: %s\" % fitted_model.explained_variance_ratio_)\n",
    "print(\"Reduced data set shape is \", X_selected_features_pca.shape)\n",
    "\n",
    "print(X_selected_features_pca)"
   ]
  },
  {
   "cell_type": "code",
   "execution_count": 24,
   "metadata": {},
   "outputs": [
    {
     "data": {
      "text/plain": [
       "0.644140940916056"
      ]
     },
     "execution_count": 24,
     "metadata": {},
     "output_type": "execute_result"
    }
   ],
   "source": [
    "kfolds = KFold(3,shuffle=True,random_state=1234)\n",
    "model = linear_model.LinearRegression()\n",
    "\n",
    "poly = PolynomialFeatures(degree=2)\n",
    "X_ = poly.fit_transform(X)\n",
    "\n",
    "scores = cross_val_score(model, X_, y, cv=kfolds)\n",
    "scores.mean()"
   ]
  },
  {
   "cell_type": "markdown",
   "metadata": {},
   "source": [
    "## Random Forest\n",
    "We now apply a random forest and use its scoring to select the attributes\n"
   ]
  },
  {
   "cell_type": "code",
   "execution_count": null,
   "metadata": {},
   "outputs": [],
   "source": [
    "forest = ExtraTreesRegressor(n_estimators=250, random_state=0)\n",
    "forest.fit(X, y)\n"
   ]
  },
  {
   "cell_type": "code",
   "execution_count": null,
   "metadata": {},
   "outputs": [],
   "source": [
    "importances = forest.feature_importances_\n",
    "std = np.std([tree.feature_importances_ for tree in forest.estimators_],\n",
    "             axis=0)\n",
    "indices = np.argsort(importances)[::-1]\n",
    "\n",
    "# Print the feature ranking\n",
    "print(\"Feature ranking:\")\n",
    "\n",
    "for f in range(X.shape[1]):\n",
    "    print(\"%d. feature %d %s (%f)\" % (f + 1, indices[f], data.feature_names[indices[f]], importances[indices[f]]))\n",
    "\n",
    "# Plot the feature importances of the forest\n",
    "plt.figure()\n",
    "plt.title(\"Feature importances\")\n",
    "plt.bar(range(X.shape[1]), importances[indices],\n",
    "       color=\"r\", yerr=std[indices], align=\"center\")\n",
    "plt.xticks(range(X.shape[1]), data.feature_names[indices],rotation=90)\n",
    "plt.xlim([-1, X.shape[1]])\n",
    "plt.show()"
   ]
  },
  {
   "cell_type": "code",
   "execution_count": null,
   "metadata": {},
   "outputs": [],
   "source": [
    "feature_selection_model = SelectFromModel(forest, prefit=True)\n",
    "X_selected_features_forest = feature_selection_model.transform(X)\n",
    "X_selected_features_forest.shape"
   ]
  }
 ],
 "metadata": {
  "kernelspec": {
   "display_name": "Python 3",
   "language": "python",
   "name": "python3"
  },
  "language_info": {
   "codemirror_mode": {
    "name": "ipython",
    "version": 3
   },
   "file_extension": ".py",
   "mimetype": "text/x-python",
   "name": "python",
   "nbconvert_exporter": "python",
   "pygments_lexer": "ipython3",
   "version": "3.6.3"
  }
 },
 "nbformat": 4,
 "nbformat_minor": 2
}
